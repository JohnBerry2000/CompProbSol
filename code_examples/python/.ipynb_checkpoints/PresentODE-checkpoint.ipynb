{
 "cells": [
  {
   "cell_type": "markdown",
   "metadata": {},
   "source": [
    "\n",
    "Ordinary differential equations\n",
    "=========================================\n",
    "\n",
    "Let’s consider a simple 1st order equation: \n",
    "$$\\frac{dy}{dx}=f(x,y)$$\n",
    "\n",
    "To solve this equation with a computer we need to **discretize** the differences: we\n",
    "have to convert the differential equation into a “**finite differences**” equation. The simplest\n",
    "solution is Euler’s method.\n",
    "\n",
    "Euler’s method\n",
    "--------------\n",
    "\n",
    "Suppose that at a point $x_0$, the function $f$ has a value $y_0$. We\n",
    "want to find the approximate value of $y$ in a point $x_1$ close to\n",
    "$x_0$, $x_1=x_0+\\Delta x$, with $\\Delta x$ small. We assume that $f$,\n",
    "the rate of change of $y$, is constant in this interval $\\Delta x$.\n",
    "Therefore we find: $$\\begin{eqnarray}\n",
    "&& dx \\approx \\Delta x &=&x_1-x_0, \\\\\n",
    "&& dy \\approx \\Delta y &=&y_1-y_0,\\end{eqnarray}$$ with\n",
    "$y_1=y(x_1)=y(x_0+\\Delta x)$. Then we re-write the differential equation in terms of discrete differences as:\n",
    "$$\\frac{\\Delta y}{\\Delta x}=f(x,y)$$ or \n",
    "$$\\Delta y = f(x,y)\\Delta x$$\n",
    "and approximate the value of $y_1$ as\n",
    "$$y_1=y_0+f(x_0,y_0)(x_1-x_0)$$ We can generalize this formula to find\n",
    "the value of $y$ at $x_2=x_1+\\Delta x$ as\n",
    "$$y_{2}=y_1+f(x_1,y_1)\\Delta x,$$ or in the general case:\n",
    "$$y_{n+1}=y_n+f(x_n,y_n)\\Delta x$$\n",
    "\n",
    "This is a good approximation as long as $\\Delta x$ is “small”. What is\n",
    "small? Depends on the problem, but it is basically defined by the “rate\n",
    "of change”, or “smoothness” of $f$. $f(x)$ has to behave smoothly and\n",
    "without rapid variations in the interval $\\Delta x$.\n",
    "\n",
    "Notice that Euler’s method is equivalent to a 1st order Taylor expansion\n",
    "about the point $x_0$. The “local error” calculating $x_1$ is then\n",
    "$O(\\Delta x^2)$. If we use the method $N$ times to calculate $N$\n",
    "consecutive points, the propagated “global” error will be\n",
    "$NO(\\Delta x^2)\\approx O(\\Delta \n",
    "x)$. This error decreases linearly with decreasing step, so we need to\n",
    "halve the step size to reduce the error in half. The numerical work for\n",
    "each step consists of a single evaluation of $f$."
   ]
  },
  {
   "cell_type": "markdown",
   "metadata": {},
   "source": [
    "### Newton’s law of cooling \n",
    "\n",
    "If the temperature difference between an object and its surroundings is\n",
    "small, the rate of change of the temperature of the object is\n",
    "proportional to the temperature difference: $$\\frac{dT}{dt}=-r(T-T_s),$$\n",
    "where $T$ is the temperature of the body, $T_s$ is the temperature of\n",
    "the environment, and $r$ is a “cooling constant” that depends on the\n",
    "heat transfer mechanism, the contact area with the environment and the\n",
    "thermal properties of the body. The minus sign appears because if\n",
    "$T>T_s$, the temperature must decrease.\n",
    "\n",
    "Below is a program that calculates the temperature of a body at a time $t$,\n",
    "given the cooling constant $r$ and the temperature of the body at time\n",
    "$t=0$. Results are plotted for $r=0.1\\frac{1}{min}$; $T_s=83^{\\circ} C$, $T_0=10^{\\circ}$\n",
    "using different intervals $\\Delta t$ and compared with exact (analytical)\n",
    "results."
   ]
  },
  {
   "cell_type": "code",
   "execution_count": 1,
   "metadata": {},
   "outputs": [],
   "source": [
    "T0 = 10.   # initial temperature\n",
    "Ts = 83.   # temp. of the environment\n",
    "r = 0.1    # cooling rate\n",
    "dt = 0.05  # time step\n",
    "tmax = 60. # maximum time\n",
    "nsteps = int(tmax/dt)  # number of steps"
   ]
  },
  {
   "cell_type": "code",
   "execution_count": 29,
   "metadata": {
    "scrolled": false
   },
   "outputs": [
    {
     "name": "stdout",
     "output_type": "stream",
     "text": [
      "10 0.625 14.43629514217881\n",
      "20 1.25 18.602991454377907\n",
      "30 1.875 22.51647277193668\n",
      "40 2.5 26.192127265411983\n",
      "50 3.125 29.64440794828822\n",
      "60 3.75 32.88688950756334\n",
      "70 4.375 35.932321680673844\n",
      "80 5.0 38.79267938864181\n",
      "90 5.625 41.47920982257208\n",
      "100 6.25 44.0024766686481\n",
      "110 6.875 46.37240164552318\n",
      "120 7.5 48.598303517436094\n",
      "130 8.125 50.688934736454016\n",
      "140 8.75 52.65251585792376\n",
      "150 9.375 54.496767864455826\n",
      "160 10.0 56.22894252554225\n",
      "170 10.625 57.85585091218508\n",
      "180 11.25 59.383890178657595\n",
      "190 11.875 60.81906871670667\n",
      "200 12.5 62.167029781104965\n",
      "210 13.125 63.43307367945071\n",
      "220 13.75 64.62217861346748\n",
      "230 14.375 65.73902025375384\n",
      "240 15.0 66.7879901249527\n",
      "250 15.625 67.77321287363254\n",
      "260 16.25 68.69856248677905\n",
      "270 16.875 69.56767752467047\n",
      "280 17.5 70.38397542803327\n",
      "290 18.125 71.15066595573498\n",
      "300 18.75 71.87076380585317\n",
      "310 19.375 72.54710046974705\n",
      "320 20.0 73.18233536574354\n",
      "330 20.625 73.77896629621604\n",
      "340 21.25 74.33933926917446\n",
      "350 21.875 74.8656577229857\n",
      "360 22.5 75.35999119049718\n",
      "370 23.125 75.82428343663145\n",
      "380 23.75 76.26036010144958\n",
      "390 24.375 76.66993587873688\n",
      "400 25.0 77.05462125833742\n",
      "410 25.625 77.41592885874908\n",
      "420 26.25 77.75527937487942\n",
      "430 26.875 78.07400716434938\n",
      "440 27.5 78.37336549431107\n",
      "450 28.125 78.65453146941005\n",
      "460 28.75 78.91861066026961\n",
      "470 29.375 79.16664145069682\n",
      "480 30.0 79.39959912070371\n"
     ]
    }
   ],
   "source": [
    "T = T0\n",
    "for i in range(1,nsteps+1):\n",
    "    new_T = T - r*(T-Ts)*dt\n",
    "    T = new_T\n",
    "    if i%10==0:\n",
    "        print (i,i*dt, T)\n",
    "        if i*dt==10:\n",
    "            check=T\n",
    "    # we can also do t = t - r*(t-ts)*dt, it would save some memory and processing time.\n",
    "    "
   ]
  },
  {
   "cell_type": "markdown",
   "metadata": {},
   "source": [
    "Let's plot the results. We first need to import the required libraries and methods"
   ]
  },
  {
   "cell_type": "code",
   "execution_count": 12,
   "metadata": {},
   "outputs": [],
   "source": [
    "#%matplotlib inline\n",
    "import numpy as np\n",
    "from matplotlib import pyplot "
   ]
  },
  {
   "cell_type": "markdown",
   "metadata": {},
   "source": [
    "Next, we create numpy arrays to store the (x,y) values "
   ]
  },
  {
   "cell_type": "code",
   "execution_count": 13,
   "metadata": {},
   "outputs": [],
   "source": [
    "my_time = np.zeros(nsteps)\n",
    "my_temp = np.zeros(nsteps)"
   ]
  },
  {
   "cell_type": "markdown",
   "metadata": {},
   "source": [
    "We have to re write the loop to store the values in the arrays. Remember that numpy arrays start from 0."
   ]
  },
  {
   "cell_type": "code",
   "execution_count": 14,
   "metadata": {},
   "outputs": [],
   "source": [
    "T = T0\n",
    "my_temp[0] = T0\n",
    "for i in range(1,nsteps):\n",
    "    T = T - r*(T-Ts)*dt\n",
    "    my_time[i] = i*dt\n",
    "    my_temp[i] = T\n",
    "    "
   ]
  },
  {
   "cell_type": "code",
   "execution_count": 15,
   "metadata": {},
   "outputs": [
    {
     "data": {
      "image/png": "[encoded data removed]",
      "text/plain": [
       "<Figure size 432x288 with 1 Axes>"
      ]
     },
     "metadata": {
      "needs_background": "light"
     },
     "output_type": "display_data"
    }
   ],
   "source": [
    "pyplot.plot(my_time, my_temp, color='#003366', ls='-', lw=3)\n",
    "pyplot.xlabel('time')\n",
    "pyplot.ylabel('temperature');"
   ]
  },
  {
   "cell_type": "markdown",
   "metadata": {},
   "source": [
    "We could have saved effort by defining"
   ]
  },
  {
   "cell_type": "code",
   "execution_count": 16,
   "metadata": {},
   "outputs": [],
   "source": [
    "my_time = np.linspace(0.,tmax,nsteps)"
   ]
  },
  {
   "cell_type": "code",
   "execution_count": 17,
   "metadata": {},
   "outputs": [
    {
     "data": {
      "image/png": "[encoded data removed]",
      "text/plain": [
       "<Figure size 432x288 with 1 Axes>"
      ]
     },
     "metadata": {
      "needs_background": "light"
     },
     "output_type": "display_data"
    }
   ],
   "source": [
    "pyplot.plot(my_time, my_temp, color='#003366', ls='-', lw=3)\n",
    "pyplot.xlabel('time')\n",
    "pyplot.ylabel('temperature');"
   ]
  },
  {
   "cell_type": "markdown",
   "metadata": {},
   "source": [
    "Alternatively, and in order to re use code in future problems, we could have created a function."
   ]
  },
  {
   "cell_type": "code",
   "execution_count": 18,
   "metadata": {},
   "outputs": [],
   "source": [
    "def euler(y, f, dx):\n",
    "    \"\"\"Computes y_new = y + f*dx\n",
    "    \n",
    "    Parameters\n",
    "    ----------\n",
    "    y  : float\n",
    "        old value of y_n at x_n\n",
    "    f  : float\n",
    "        first derivative f(x,y) evaluated at (x_n,y_n)\n",
    "    dx : float\n",
    "        x step\n",
    "    \"\"\"\n",
    "    \n",
    "    return y + f*dx"
   ]
  },
  {
   "cell_type": "code",
   "execution_count": 21,
   "metadata": {},
   "outputs": [
    {
     "data": {
      "text/plain": [
       "[<matplotlib.lines.Line2D at 0x15ac2cdc550>]"
      ]
     },
     "execution_count": 21,
     "metadata": {},
     "output_type": "execute_result"
    },
    {
     "data": {
      "image/png": "[encoded data removed]",
      "text/plain": [
       "<Figure size 432x288 with 1 Axes>"
      ]
     },
     "metadata": {
      "needs_background": "light"
     },
     "output_type": "display_data"
    }
   ],
   "source": [
    "T = T0\n",
    "for i in range(1,nsteps):\n",
    "    T = euler(T, -r*(T-Ts), dt)\n",
    "    my_temp[i] = T\n",
    "pyplot.plot(my_time,my_temp)"
   ]
  },
  {
   "cell_type": "markdown",
   "metadata": {
    "collapsed": true
   },
   "source": [
    "Actually, for this particularly simple case, calling a function may introduce unecessary overhead, but it is a an example that we will find useful for future applications. For a simple function like this we could have used a \"lambda\" function (more about lambda functions <a href=\"http://www.secnetix.de/olli/Python/lambda_functions.hawk\">here</a>)."
   ]
  },
  {
   "cell_type": "code",
   "execution_count": 20,
   "metadata": {},
   "outputs": [],
   "source": [
    "euler = lambda y, f, dx: y + f*dx "
   ]
  },
  {
   "cell_type": "markdown",
   "metadata": {},
   "source": [
    "Now, let's study the effects of different time steps on the convergence. Notice the initial time step `dt=1`; it is then divided in half in every iteration:"
   ]
  },
  {
   "cell_type": "code",
   "execution_count": 46,
   "metadata": {},
   "outputs": [
    {
     "data": {
      "image/png": "[encoded data removed]",
      "text/plain": [
       "<Figure size 432x288 with 1 Axes>"
      ]
     },
     "metadata": {
      "needs_background": "light"
     },
     "output_type": "display_data"
    }
   ],
   "source": [
    "dt = 1.\n",
    "#my_color = ['#003366','#663300','#660033','#330066']\n",
    "my_color = ['red', 'green', 'blue', 'black']\n",
    "for j in range(0,4):\n",
    "    nsteps = int(tmax/dt)    #the arrays will have different size for different time steps\n",
    "    my_time = np.linspace(dt,tmax,nsteps) \n",
    "    my_temp = np.zeros(nsteps)\n",
    "    T = T0\n",
    "    for i in range(1,nsteps):\n",
    "        T = euler(T, -r*(T-Ts), dt)\n",
    "        my_temp[i] = T\n",
    "        \n",
    "    pyplot.plot(my_time, my_temp, color=my_color[j], ls='-', lw=3)\n",
    "    dt = dt/4.\n",
    "pyplot.plot(my_time,check*np.ones([len(my_time),1]))\n",
    "pyplot.xlabel('time');\n",
    "pyplot.ylabel('temperature');\n",
    "pyplot.xlim(8,10)\n",
    "pyplot.ylim(48,58);"
   ]
  },
  {
   "cell_type": "markdown",
   "metadata": {
    "collapsed": true
   },
   "source": [
    "Runge-Kutta methods\n",
    "-------------------\n",
    "\n",
    "### 2nd order Runge-Kutta\n",
    "\n",
    "Euler’s method rests on the idea that the slope at one point can be used\n",
    "to extrapolate to the next. A plausible idea to make a better estimate\n",
    "of the slope is to extrapolate to a point halfway across the interval,\n",
    "and then to use the derivative at this point to extrapolate across the\n",
    "whole interval. Thus,\n",
    "\n",
    "$$\\begin{eqnarray}\n",
    "k&=&\\Delta x f(x_n,y_x), \\\\\n",
    "y_{n+1}&=&y_n+\\Delta x f(x+\\Delta x/2, y_n+k/2) + O(\\Delta \n",
    "x^3).\\end{eqnarray}$$\n",
    "\n",
    "It has the same accuracy as the Taylor series. It requires\n",
    "the evaluation of $f$ twice for each step.\n",
    "\n",
    "### 4th order Runge-Kutta\n",
    "\n",
    "Similar ideas can be used to derive a 3rd or 4th order Runge-Kutta\n",
    "method. It has been found by experience that the best balance between\n",
    "accuracy and computational effort is given by a fourth-order algorithm.\n",
    "Such a method would require evaluating $f$ four times at each step, with\n",
    "a local accuracy of $O(\\Delta x^5)$. It can be written as follows:\n",
    "$$\\begin{eqnarray}\n",
    " k_1&=&\\Delta x f(x_n,y_n), \\\\\n",
    " k_2&=&\\Delta x f(x_n+\\Delta x/2,y_n+k_1/2), \\\\\n",
    " k_3&=&\\Delta x f(x_n+\\Delta x/2,y_n+k_2/2), \\\\\n",
    " k_4&=&\\Delta x f(x_n+\\Delta x,y_n+k_3), \\\\\n",
    " y_{n+1}&=&y_n+\\frac{1}{6}(k_1+2k_2+2k_3+k_4)+O(\\Delta x^5).\\end{eqnarray}$$\n",
    "\n",
    "Runge-Kutta method are self-staring, meaning that they can be used to\n",
    "obtain the first few iterations for a non self-starting algorithm."
   ]
  },
  {
   "cell_type": "markdown",
   "metadata": {},
   "source": [
    "### Newton's Law of Cooling\n",
    "\n",
    "Using the 4th order Runge-Kutta Methods,"
   ]
  },
  {
   "cell_type": "code",
   "execution_count": 23,
   "metadata": {},
   "outputs": [],
   "source": [
    "def rk4insteps(T,func,dt):\n",
    "    k1 = dt*func(T,dt)\n",
    "    k2 = dt*func(T+0.5*k1,dt)\n",
    "    k3 =dt*func(T+0.5*k2,dt)\n",
    "    k4 = dt*func(T+k3,dt)\n",
    "    T += (k1+2*k2+2*k3+k4)/6\n",
    "    return T"
   ]
  },
  {
   "cell_type": "code",
   "execution_count": 24,
   "metadata": {},
   "outputs": [
    {
     "data": {
      "text/plain": [
       "[<matplotlib.lines.Line2D at 0x15ac2d9f5c0>]"
      ]
     },
     "execution_count": 24,
     "metadata": {},
     "output_type": "execute_result"
    },
    {
     "data": {
      "image/png": "[encoded data removed]",
      "text/plain": [
       "<Figure size 432x288 with 1 Axes>"
      ]
     },
     "metadata": {
      "needs_background": "light"
     },
     "output_type": "display_data"
    }
   ],
   "source": [
    "fT = lambda T,t: -r*(T-Ts)\n",
    "T = T0\n",
    "dt = 0.05\n",
    "for i in range(1,nsteps):\n",
    "    T = rk4insteps(T, fT, dt)\n",
    "    my_temp[i] = T\n",
    "pyplot.plot(my_time,my_temp)"
   ]
  },
  {
   "cell_type": "code",
   "execution_count": 45,
   "metadata": {},
   "outputs": [
    {
     "data": {
      "image/png": "[encoded data removed]",
      "text/plain": [
       "<Figure size 432x288 with 1 Axes>"
      ]
     },
     "metadata": {
      "needs_background": "light"
     },
     "output_type": "display_data"
    }
   ],
   "source": [
    "dt = 1\n",
    "#my_color = ['#003366','#663300','#660033','#330066']\n",
    "my_color = ['red', 'green', 'blue', 'black']\n",
    "for j in range(0,4):\n",
    "    nsteps = int(tmax/dt)    #the arrays will have different size for different time steps\n",
    "    my_time = np.linspace(dt,tmax,nsteps) \n",
    "    my_temp = np.zeros(nsteps)\n",
    "    T = T0\n",
    "    for i in range(1,nsteps):\n",
    "        T = rk4insteps(T,fT,dt)\n",
    "        my_temp[i] = T\n",
    "        \n",
    "    pyplot.plot(my_time, my_temp, color=my_color[j], ls='-', lw=3)\n",
    "    dt = dt/4.\n",
    "pyplot.plot(my_time,check*np.ones([len(my_time),1]))\n",
    "pyplot.xlabel('time');\n",
    "pyplot.ylabel('temperature');\n",
    "pyplot.xlim(8,10)\n",
    "pyplot.ylim(48,58);"
   ]
  }
 ],
 "metadata": {
  "kernelspec": {
   "display_name": "Python 3",
   "language": "python",
   "name": "python3"
  },
  "language_info": {
   "codemirror_mode": {
    "name": "ipython",
    "version": 3
   },
   "file_extension": ".py",
   "mimetype": "text/x-python",
   "name": "python",
   "nbconvert_exporter": "python",
   "pygments_lexer": "ipython3",
   "version": "3.7.1"
  }
 },
 "nbformat": 4,
 "nbformat_minor": 1
}
