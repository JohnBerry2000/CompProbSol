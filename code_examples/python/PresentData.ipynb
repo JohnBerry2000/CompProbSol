{
 "cells": [
  {
   "cell_type": "markdown",
   "metadata": {},
   "source": [
    "# Data Structures in Python\n",
    "The basic data container in Python is a list. A `list` can hold a variety of data types. Once a `list` exists, it can be appended, have elements deleted, and be transformed into `arrays` or `tuples`. Of course, there are more sophisicated ways of storing/accessing/processing data in Python. Let's look at two: `dictionaries` and `dataframes`. Content below is generously sampled from http://openbookproject.net/thinkcs/python/english3e/dictionaries.html."
   ]
  },
  {
   "cell_type": "markdown",
   "metadata": {},
   "source": [
    "## Dictionaries\n",
    "Dictionaries are lists of values that are indexed by `keys`. In other languages, these dictionaries are often referred to associative arrays because it is a way to associate `keys` with values. Examples of using dictionaries:\n",
    "* English to Spainish dictionary"
   ]
  },
  {
   "cell_type": "code",
   "execution_count": 1,
   "metadata": {},
   "outputs": [],
   "source": [
    "entosp = {\"one\":\"uno\",\"two\":\"dos\",\"three\":\"tres\"}"
   ]
  },
  {
   "cell_type": "markdown",
   "metadata": {},
   "source": [
    "* Inventory of supplies"
   ]
  },
  {
   "cell_type": "code",
   "execution_count": 2,
   "metadata": {},
   "outputs": [],
   "source": [
    "office = {\"highlighters\":200,\"pencils\":300,\"pens\":500}"
   ]
  },
  {
   "cell_type": "markdown",
   "metadata": {},
   "source": [
    "You could construct a dictionary for a encryption code:"
   ]
  },
  {
   "cell_type": "code",
   "execution_count": 3,
   "metadata": {},
   "outputs": [
    {
     "name": "stdout",
     "output_type": "stream",
     "text": [
      "{'a': 1, 'b': 2, 'c': 3, 'd': 4, 'e': 5, 'f': 6, 'g': 7, 'h': 8, 'i': 9, 'j': 10, 'k': 11, 'l': 12, 'm': 13, 'n': 14, 'o': 15, 'p': 16, 'q': 17, 'r': 18, 's': 19, 't': 20, 'u': 21, 'v': 22, 'w': 23, 'x': 24, 'y': 25}\n"
     ]
    }
   ],
   "source": [
    "codex = { \"a\": 1, \"b\": 2, \"c\": 3, \"d\": 4, \"e\": 5, \"f\": 6, \"g\": 7, \"h\": 8, \"i\": 9, \"j\": 10,\"k\": 11,\"l\": 12,\"m\": 13,\"n\": 14,\n",
    "         \"o\": 15,\"p\": 16,\"q\": 17,\"r\": 18,\"s\": 19,\"t\": 20,\"u\": 21,\"v\": 22,\"w\": 23,\"x\": 24,\"y\": 25}\n",
    "print(codex)"
   ]
  },
  {
   "cell_type": "markdown",
   "metadata": {},
   "source": [
    "You can add new keys after the initial definiton:"
   ]
  },
  {
   "cell_type": "code",
   "execution_count": 4,
   "metadata": {},
   "outputs": [
    {
     "name": "stdout",
     "output_type": "stream",
     "text": [
      "{'a': 1, 'b': 2, 'c': 3, 'd': 4, 'e': 5, 'f': 6, 'g': 7, 'h': 8, 'i': 9, 'j': 10, 'k': 11, 'l': 12, 'm': 13, 'n': 14, 'o': 15, 'p': 16, 'q': 17, 'r': 18, 's': 19, 't': 20, 'u': 21, 'v': 22, 'w': 23, 'x': 24, 'y': 25, 'z': 26}\n"
     ]
    }
   ],
   "source": [
    "codex[\"z\"]=26\n",
    "print(codex)"
   ]
  },
  {
   "cell_type": "markdown",
   "metadata": {},
   "source": [
    "You can update the values in the dictionary"
   ]
  },
  {
   "cell_type": "code",
   "execution_count": 5,
   "metadata": {},
   "outputs": [
    {
     "name": "stdout",
     "output_type": "stream",
     "text": [
      "{'highlighters': 200, 'pencils': 300, 'pens': 700}\n"
     ]
    }
   ],
   "source": [
    "office[\"pens\"]+=200\n",
    "print(office)"
   ]
  },
  {
   "cell_type": "markdown",
   "metadata": {},
   "source": [
    "You can find out how many `key:value` pairs a dictionary has"
   ]
  },
  {
   "cell_type": "code",
   "execution_count": 6,
   "metadata": {},
   "outputs": [
    {
     "data": {
      "text/plain": [
       "26"
      ]
     },
     "execution_count": 6,
     "metadata": {},
     "output_type": "execute_result"
    }
   ],
   "source": [
    "len(codex)"
   ]
  },
  {
   "cell_type": "markdown",
   "metadata": {},
   "source": [
    "### Dictionary Methods\n",
    "Dictionaries are a type of class in Python, and classes have functions associated with them called `methods`. Methods allow you to perform operations on and with the dictionary. \n",
    "You can always get the keys and the values from any dictionary, using the methods `keys` and `values`"
   ]
  },
  {
   "cell_type": "code",
   "execution_count": 7,
   "metadata": {},
   "outputs": [
    {
     "name": "stdout",
     "output_type": "stream",
     "text": [
      "dict_values([200, 300, 700])\n",
      "dict_keys(['highlighters', 'pencils', 'pens'])\n",
      "[200, 300, 700]\n"
     ]
    }
   ],
   "source": [
    "print(office.values())\n",
    "print(office.keys())\n",
    "print(list(office.values()))"
   ]
  },
  {
   "cell_type": "markdown",
   "metadata": {},
   "source": [
    "You can run over all the keys to process the values or run through the values explicitly."
   ]
  },
  {
   "cell_type": "code",
   "execution_count": 8,
   "metadata": {},
   "outputs": [
    {
     "name": "stdout",
     "output_type": "stream",
     "text": [
      "Let's count in Spanish\n",
      "uno\n",
      "dos\n",
      "tres\n"
     ]
    }
   ],
   "source": [
    "print(\"Let's count in Spanish\")\n",
    "for k in entosp.keys():   # The order of the k's is not defined\n",
    "   print(entosp[k])\n"
   ]
  },
  {
   "cell_type": "code",
   "execution_count": 9,
   "metadata": {},
   "outputs": [
    {
     "name": "stdout",
     "output_type": "stream",
     "text": [
      "Let's count in Spanish\n",
      "one oops\n",
      "two oops\n",
      "three oops\n"
     ]
    }
   ],
   "source": [
    "print(\"Let's count in Spanish\")\n",
    "for k in entosp:   # The order of the k's is not defined\n",
    "   print(k,\"oops\")"
   ]
  },
  {
   "cell_type": "code",
   "execution_count": 10,
   "metadata": {},
   "outputs": [
    {
     "name": "stdout",
     "output_type": "stream",
     "text": [
      "Let's count in Spanish\n",
      "uno\n",
      "dos\n",
      "tres\n"
     ]
    }
   ],
   "source": [
    "print(\"Let's count in Spanish\")\n",
    "for k in entosp.values():   # The order of the k's is not defined\n",
    "   print(k)"
   ]
  },
  {
   "cell_type": "markdown",
   "metadata": {},
   "source": [
    "The method `items` can be used to iterate over the keys and values or to grab both the keys and the values."
   ]
  },
  {
   "cell_type": "code",
   "execution_count": 11,
   "metadata": {},
   "outputs": [
    {
     "data": {
      "text/plain": [
       "[('highlighters', 200), ('pencils', 300), ('pens', 700)]"
      ]
     },
     "execution_count": 11,
     "metadata": {},
     "output_type": "execute_result"
    }
   ],
   "source": [
    "list(office.items())"
   ]
  },
  {
   "cell_type": "code",
   "execution_count": 12,
   "metadata": {},
   "outputs": [
    {
     "name": "stdout",
     "output_type": "stream",
     "text": [
      "a = 1\n",
      "b = 2\n",
      "c = 3\n",
      "d = 4\n",
      "e = 5\n",
      "f = 6\n",
      "g = 7\n",
      "h = 8\n",
      "i = 9\n",
      "j = 10\n",
      "k = 11\n",
      "l = 12\n",
      "m = 13\n",
      "n = 14\n",
      "o = 15\n",
      "p = 16\n",
      "q = 17\n",
      "r = 18\n",
      "s = 19\n",
      "t = 20\n",
      "u = 21\n",
      "v = 22\n",
      "w = 23\n",
      "x = 24\n",
      "y = 25\n",
      "z = 26\n"
     ]
    }
   ],
   "source": [
    "for (k,v) in codex.items():\n",
    "    print(k, \"=\", v)"
   ]
  },
  {
   "cell_type": "markdown",
   "metadata": {},
   "source": [
    "## Pandas: Dataframes"
   ]
  },
  {
   "cell_type": "markdown",
   "metadata": {},
   "source": [
    "Dataframes are two-dimensional data structures that imitate spreadsheets or tables, that is they are indexed with row and column identifiers. `DataFrame` is a class included with the package called `pandas`. Dataframes are useful because you can convert almost any other data container into a dataframe (lists, tuples, dictionaries). What follows was greatly inspired by https://www.tutorialspoint.com/python_pandas/python_pandas_dataframe.htm\n",
    "\n",
    "Let's start by creating a dataframe, using the syntax\n",
    "```python\n",
    "pandas.DataFrame( data, index, columns, dtype, copy)\n",
    "\n",
    "```\n",
    "* `data` can be any data container like arrays, lists, dictionaries\n",
    "* `index` contains the labels for all the rows (default is `np.arrange(n)`)\n",
    "* `columns` contains the labels for the columns (default is also `np.arrange(n)`)\n",
    "* `dtype` is where you can specify the data types of the input values\n",
    "* `copy` is a boolean used to copy any data (I rarely if ever actually use this)\n",
    "\n",
    "Let's create some dataframes and see what happens"
   ]
  },
  {
   "cell_type": "code",
   "execution_count": 13,
   "metadata": {},
   "outputs": [
    {
     "name": "stdout",
     "output_type": "stream",
     "text": [
      "Empty DataFrame\n",
      "Columns: []\n",
      "Index: []\n"
     ]
    }
   ],
   "source": [
    "import pandas as pd\n",
    "# Empty dataframe\n",
    "df = pd.DataFrame()\n",
    "print(df)"
   ]
  },
  {
   "cell_type": "code",
   "execution_count": 14,
   "metadata": {},
   "outputs": [
    {
     "name": "stdout",
     "output_type": "stream",
     "text": [
      "       a\n",
      "one    1\n",
      "two    2\n",
      "three  3\n",
      "four   4\n",
      "five   5\n"
     ]
    }
   ],
   "source": [
    "# DataFrame from list as a data frame\n",
    "lt = [1,2,3,4,5]\n",
    "df1 = pd.DataFrame(lt,index=['one','two','three','four','five'],columns=['a'])\n",
    "print(df1)"
   ]
  },
  {
   "cell_type": "code",
   "execution_count": 16,
   "metadata": {},
   "outputs": [
    {
     "name": "stdout",
     "output_type": "stream",
     "text": [
      "         Object  Quantity\n",
      "0  highlighters       200\n",
      "1       pencils       300\n",
      "2          pens       500\n"
     ]
    }
   ],
   "source": [
    "# DataFrame from list of lists\n",
    "data = [['highlighters',200],['pencils',300],['pens',500]]\n",
    "df2 = pd.DataFrame(data,columns=['Object','Quantity'])\n",
    "print(df2)"
   ]
  },
  {
   "cell_type": "code",
   "execution_count": 17,
   "metadata": {},
   "outputs": [
    {
     "name": "stdout",
     "output_type": "stream",
     "text": [
      "       highlighters  pencils  pens\n",
      "one             200      300   700\n",
      "two             200      300   700\n",
      "three           200      300   700\n"
     ]
    }
   ],
   "source": [
    "# Or a DataFrame form a dictionaries - (though be careful, if the dictionaries have different keys, you might not get what you think)\n",
    "df3 = pd.DataFrame(office,entosp)\n",
    "print(df3)"
   ]
  },
  {
   "cell_type": "markdown",
   "metadata": {},
   "source": [
    "### Accessing the DataFrame\n",
    "To access the elements within your dataframe, you can index them using the row and column names as indices or somethings using standard indices conventions from Python"
   ]
  },
  {
   "cell_type": "code",
   "execution_count": 21,
   "metadata": {},
   "outputs": [
    {
     "name": "stdout",
     "output_type": "stream",
     "text": [
      "0    200\n",
      "1    300\n",
      "2    500\n",
      "Name: Quantity, dtype: int64 \n",
      "\n",
      "700\n"
     ]
    }
   ],
   "source": [
    "# Printing a column\n",
    "print(df2['Quantity'],\"\\n\")\n",
    "# Printing an element\n",
    "print(df3['pens']['three'])"
   ]
  },
  {
   "cell_type": "markdown",
   "metadata": {},
   "source": [
    "Selecting a row requires that you use another method `loc` or `iloc`"
   ]
  },
  {
   "cell_type": "code",
   "execution_count": 19,
   "metadata": {},
   "outputs": [
    {
     "name": "stdout",
     "output_type": "stream",
     "text": [
      "highlighters    200\n",
      "pencils         300\n",
      "pens            700\n",
      "Name: one, dtype: int64 \n",
      "\n",
      "700 \n",
      "\n",
      "highlighters    200\n",
      "pencils         300\n",
      "pens            700\n",
      "Name: two, dtype: int64 \n",
      "\n",
      "700 \n",
      "\n"
     ]
    }
   ],
   "source": [
    "print(df3.loc['one'],\"\\n\")\n",
    "print(df3.loc['one']['pens'],\"\\n\")\n",
    "print(df3.iloc[1],\"\\n\")\n",
    "print(df3.iloc[1]['pens'],\"\\n\")"
   ]
  },
  {
   "cell_type": "markdown",
   "metadata": {},
   "source": [
    "You can even use the `:` colon notation to get ranges of rows and columns"
   ]
  },
  {
   "cell_type": "code",
   "execution_count": 24,
   "metadata": {},
   "outputs": [
    {
     "name": "stdout",
     "output_type": "stream",
     "text": [
      "         Object  Quantity\n",
      "0  highlighters       200 \n",
      "\n",
      "         Object  Quantity\n",
      "0  highlighters       200\n",
      "1       pencils       300\n"
     ]
    }
   ],
   "source": [
    "print(df2[:1][:2],'\\n')\n",
    "print(df2[:][:2])"
   ]
  }
 ],
 "metadata": {
  "kernelspec": {
   "display_name": "Python 3",
   "language": "python",
   "name": "python3"
  },
  "language_info": {
   "codemirror_mode": {
    "name": "ipython",
    "version": 3
   },
   "file_extension": ".py",
   "mimetype": "text/x-python",
   "name": "python",
   "nbconvert_exporter": "python",
   "pygments_lexer": "ipython3",
   "version": "3.7.1"
  }
 },
 "nbformat": 4,
 "nbformat_minor": 2
}
