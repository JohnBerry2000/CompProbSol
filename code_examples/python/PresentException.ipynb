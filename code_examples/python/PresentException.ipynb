{
 "cells": [
  {
   "cell_type": "markdown",
   "metadata": {},
   "source": [
    "# Errors in Python\n",
    "Python differentiates between two kinds of errors: syntax errors and exception errors. Syntax error occur if the code syntax is incorrect, such as the line below"
   ]
  },
  {
   "cell_type": "code",
   "execution_count": null,
   "metadata": {},
   "outputs": [],
   "source": [
    "print(4*7))"
   ]
  },
  {
   "cell_type": "markdown",
   "metadata": {},
   "source": [
    "Exception errors occur when code incorrects other errors, such as division by zero:"
   ]
  },
  {
   "cell_type": "code",
   "execution_count": null,
   "metadata": {},
   "outputs": [],
   "source": [
    "print(4/0)"
   ]
  },
  {
   "cell_type": "markdown",
   "metadata": {},
   "source": [
    "Python prints out a exception identifier `ZeroDivisionError` and a message (much like MATLAB).\n",
    "## 'Raising' an Exception\n",
    "You can 'throw an error' like in MATLAB by using the function `raise`, as shown below."
   ]
  },
  {
   "cell_type": "code",
   "execution_count": null,
   "metadata": {},
   "outputs": [],
   "source": [
    "x = 10\n",
    "if x > 5:\n",
    "    raise Exception('x should not exceed 5. The value of x was: {}'.format(x))"
   ]
  },
  {
   "cell_type": "markdown",
   "metadata": {},
   "source": [
    "## 'Asserting' an Exception\n",
    "Asserting an exception allows you to test a condition (as in an `if` statement) and then throw an error if that condition is false"
   ]
  },
  {
   "cell_type": "code",
   "execution_count": null,
   "metadata": {},
   "outputs": [],
   "source": [
    "import sys\n",
    "assert ('linux' in sys.platform), \"This code runs on Linux only.\""
   ]
  },
  {
   "cell_type": "code",
   "execution_count": null,
   "metadata": {},
   "outputs": [],
   "source": [
    "#import numpy as np\n",
    "assert ('numpy' in sys.modules), \"numpy must be loaded first\""
   ]
  },
  {
   "cell_type": "markdown",
   "metadata": {},
   "source": [
    "## The `try/except` statement\n",
    "Python contains syntax for a `try/except` statement. This statement executes everything under `try:` until it encounters an exception, and then executes the code under `except:`. For example, when you try to open files, you may want to include such a `try/except` statement: "
   ]
  },
  {
   "cell_type": "code",
   "execution_count": null,
   "metadata": {},
   "outputs": [],
   "source": [
    "f = 'file.log'\n",
    "try:\n",
    "    #n*4;\n",
    "    file = open(f)\n",
    "    read_data = file.read()\n",
    "except FileNotFoundError as fnf_err: #FileNotFoundError is a special defined exception in Python\n",
    "    print(fnf_err)"
   ]
  },
  {
   "cell_type": "markdown",
   "metadata": {},
   "source": [
    "It should be noted that the code under `except` will not run unless it encounters a `FileNotFoundError`. You can add more `except:` statements to catch more types of errors. "
   ]
  },
  {
   "cell_type": "code",
   "execution_count": null,
   "metadata": {},
   "outputs": [],
   "source": [
    "f = 'file.log'\n",
    "try:\n",
    "    n*4;\n",
    "    file = open(f)\n",
    "    read_data = file.read()\n",
    "except FileNotFoundError as fnf_err: #FileNotFoundError is a special defined exception in Python\n",
    "    print(fnf_err)\n",
    "except NameError as nerr:\n",
    "    print(nerr)"
   ]
  },
  {
   "cell_type": "markdown",
   "metadata": {},
   "source": [
    "## The `try/except/else` statement\n",
    "You can append an `else` statement to the `try/except` statement. The code under `else` will only execute if no exception is found. For example,"
   ]
  },
  {
   "cell_type": "code",
   "execution_count": null,
   "metadata": {},
   "outputs": [],
   "source": [
    "f = 'test1.txt'\n",
    "try:\n",
    "    file = open(f)\n",
    "    read_data = file.read()\n",
    "except FileNotFoundError as fnf_err: #FileNotFoundError is a special defined exception in Python\n",
    "    print(fnf_err)\n",
    "else:\n",
    "    print(\"Opened\", f)\n",
    "    \n",
    "print(read_data)"
   ]
  },
  {
   "cell_type": "markdown",
   "metadata": {},
   "source": [
    "## The `finally` addition\n",
    "You can even add another code block to the `try/except` statement, `finally`. Everything under the `finally` will be executed regardless of whether an exception has been encountered."
   ]
  },
  {
   "cell_type": "code",
   "execution_count": null,
   "metadata": {},
   "outputs": [],
   "source": [
    "f = 'test1.txt'\n",
    "l=[\"start\"]\n",
    "try:\n",
    "    file = open(f)\n",
    "    read_data = file.read()\n",
    "    l.append(\"try\")\n",
    "except FileNotFoundError as fnf_err: #FileNotFoundError is a special defined exception in Python\n",
    "    print(fnf_err)\n",
    "    l.append(\"except\")\n",
    "else:\n",
    "    print(\"Opened\", f)\n",
    "    l.append(\"else\")\n",
    "finally:\n",
    "    l.append('finally')\n",
    "    print(l)\n",
    "    \n",
    "    \n"
   ]
  },
  {
   "cell_type": "code",
   "execution_count": null,
   "metadata": {},
   "outputs": [],
   "source": [
    "g = 'file.log'\n",
    "l=[\"start\"]\n",
    "try:\n",
    "    file = open(g)\n",
    "    read_data = file.read()\n",
    "    l.append(\"try\")\n",
    "except FileNotFoundError as fnf_err: #FileNotFoundError is a special defined exception in Python\n",
    "    print(fnf_err)\n",
    "    l.append(\"except\")\n",
    "else:\n",
    "    print(\"Opened\", g)\n",
    "    l.append(\"else\")\n",
    "finally:\n",
    "    l.append('finally')\n",
    "    print(l)"
   ]
  }
 ],
 "metadata": {
  "kernelspec": {
   "display_name": "Python 3",
   "language": "python",
   "name": "python3"
  },
  "language_info": {
   "codemirror_mode": {
    "name": "ipython",
    "version": 3
   },
   "file_extension": ".py",
   "mimetype": "text/x-python",
   "name": "python",
   "nbconvert_exporter": "python",
   "pygments_lexer": "ipython3",
   "version": "3.7.1"
  }
 },
 "nbformat": 4,
 "nbformat_minor": 2
}
