{
 "cells": [
  {
   "cell_type": "markdown",
   "metadata": {},
   "source": [
    "# Be Aware\n",
    "This code is a modified version of a visual python script that you can grab [here](https://www.glowscript.org/#/user/GlowScriptDemos/folder/Examples/). You must install visual python before this code will run on your machine. Unfortunately, newer version of Spyder do not play well with visual python, but you can install visual python through anaconda for use in Jupyter notebooks fairly easily,\n",
    "* Open an anaconda command window\n",
    "* Enter `conda install -c vpython vpython` on the command line\n",
    "\n",
    "Several packages will be installed. The next time you open a Jupyter notebook, you should have a `VPython` option underneath the `New` button on the top right side of the screen."
   ]
  },
  {
   "cell_type": "code",
   "execution_count": null,
   "metadata": {},
   "outputs": [
    {
     "data": {
      "text/html": [
       "<div id=\"glowscript\" class=\"glowscript\"></div>"
      ],
      "text/plain": [
       "<IPython.core.display.HTML object>"
      ]
     },
     "metadata": {},
     "output_type": "display_data"
    },
    {
     "data": {
      "application/javascript": [
       "if (typeof Jupyter !== \"undefined\") { window.__context = { glowscript_container: $(\"#glowscript\").removeAttr(\"id\")};}else{ element.textContent = ' ';}"
      ],
      "text/plain": [
       "<IPython.core.display.Javascript object>"
      ]
     },
     "metadata": {},
     "output_type": "display_data"
    },
    {
     "data": {
      "application/javascript": [
       "if (typeof Jupyter !== \"undefined\") {require.undef(\"nbextensions/vpython_libraries/glow.min\");}else{element.textContent = ' ';}"
      ],
      "text/plain": [
       "<IPython.core.display.Javascript object>"
      ]
     },
     "metadata": {},
     "output_type": "display_data"
    },
    {
     "data": {
      "application/javascript": [
       "if (typeof Jupyter !== \"undefined\") {require.undef(\"nbextensions/vpython_libraries/glowcomm\");}else{element.textContent = ' ';}"
      ],
      "text/plain": [
       "<IPython.core.display.Javascript object>"
      ]
     },
     "metadata": {},
     "output_type": "display_data"
    },
    {
     "data": {
      "application/javascript": [
       "if (typeof Jupyter !== \"undefined\") {require.undef(\"nbextensions/vpython_libraries/jquery-ui.custom.min\");}else{element.textContent = ' ';}"
      ],
      "text/plain": [
       "<IPython.core.display.Javascript object>"
      ]
     },
     "metadata": {},
     "output_type": "display_data"
    },
    {
     "data": {
      "application/javascript": [
       "if (typeof Jupyter !== \"undefined\") {require([\"nbextensions/vpython_libraries/glow.min\"], function(){console.log(\"GLOW LOADED\");});}else{element.textContent = ' ';}"
      ],
      "text/plain": [
       "<IPython.core.display.Javascript object>"
      ]
     },
     "metadata": {},
     "output_type": "display_data"
    },
    {
     "data": {
      "application/javascript": [
       "if (typeof Jupyter !== \"undefined\") {require([\"nbextensions/vpython_libraries/glowcomm\"], function(){console.log(\"GLOWCOMM LOADED\");});}else{element.textContent = ' ';}"
      ],
      "text/plain": [
       "<IPython.core.display.Javascript object>"
      ]
     },
     "metadata": {},
     "output_type": "display_data"
    },
    {
     "data": {
      "application/javascript": [
       "if (typeof Jupyter !== \"undefined\") {require([\"nbextensions/vpython_libraries/jquery-ui.custom.min\"], function(){console.log(\"JQUERY LOADED\");});}else{element.textContent = ' ';}"
      ],
      "text/plain": [
       "<IPython.core.display.Javascript object>"
      ]
     },
     "metadata": {},
     "output_type": "display_data"
    }
   ],
   "source": [
    "from vpython import *\n",
    "display()\n",
    "ball = sphere(pos=vector(-5,0,0), radius=0.05, color=color.cyan)\n",
    "wallR = box(pos=vector(6,0,0), size=vector(0.2,12,12), color=color.green)\n",
    "wallL = box(pos=vector(-6,0,0), size=vector(0.2,12,12), color=color.green)\n",
    "wallT = box(pos=vector(0,6,0), size=vector(12,0.2,12), color=color.blue)\n",
    "wallB = box(pos=vector(0,-6,0), size=vector(12,0.2,12), color=color.blue)\n",
    "wallBG = box(pos=vector(0,0,-6), size=vector(12,12,0.2), color=color.red)\n",
    "wallFG = box(pos=vector(0,0,6), size=vector(12,12,0.2), color=color.red, opacity=0)\n",
    "ball.velocity = vector(25,5,15)\n",
    "ball.trail = curve(color=ball.color)\n",
    "vscale = 0.05 #scales vector\n",
    "cor = 1 #reflection coefficient\n",
    "varr = arrow(pos=ball.pos, axis=vscale*ball.velocity, color=color.yellow)\n",
    "deltat = 0.005\n",
    "t = 0\n",
    "scene.autoscale = False\n",
    "while t < 90:\n",
    "    rate(100) # limits the number of times loop can execute per minute\n",
    "    if (ball.pos.x+ball.radius) > (wallR.pos.x-wallR.size.x):\n",
    "        ball.velocity.x = -cor*ball.velocity.x\n",
    "    if (ball.pos.x-ball.radius) < (wallL.pos.x+wallL.size.x):\n",
    "        ball.velocity.x = -cor*ball.velocity.x\n",
    "    if (ball.pos.y+ball.radius) > (wallT.pos.y-wallT.size.y):\n",
    "        ball.velocity.y = -cor*ball.velocity.y\n",
    "    if (ball.pos.y-ball.radius) < (wallB.pos.y+wallB.size.y):\n",
    "        ball.velocity.y = -cor*ball.velocity.y\n",
    "    if (ball.pos.z+ball.radius) > (wallFG.pos.z-wallFG.size.z):\n",
    "        ball.velocity.z = -cor*ball.velocity.z\n",
    "    if (ball.pos.z-ball.radius) < (wallBG.pos.z+wallBG.size.z):\n",
    "        ball.velocity.z = -cor*ball.velocity.z\n",
    "    ball.pos = ball.pos + ball.velocity*deltat\n",
    "    ball.trail.append(pos=ball.pos)\n",
    "    varr.pos = ball.pos\n",
    "    varr.axis = vscale*ball.velocity\n",
    "    t = t + deltat\n"
   ]
  }
 ],
 "metadata": {
  "kernelspec": {
   "display_name": "VPython",
   "language": "python",
   "name": "vpython"
  },
  "language_info": {
   "codemirror_mode": {
    "name": "ipython",
    "version": 3
   },
   "file_extension": ".py",
   "mimetype": "text/x-python",
   "name": "python",
   "nbconvert_exporter": "python",
   "pygments_lexer": "ipython3",
   "version": "3.7.1"
  }
 },
 "nbformat": 4,
 "nbformat_minor": 2
}
