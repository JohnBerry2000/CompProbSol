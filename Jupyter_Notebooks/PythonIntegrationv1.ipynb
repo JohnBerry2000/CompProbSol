{
 "cells": [
  {
   "cell_type": "markdown",
   "metadata": {},
   "source": [
    "# Integration in Python\n",
    "Python has a entire library devoted to algorthims implementing the integration techniques that we talked about today. You just need to import *scipy.integrate*"
   ]
  },
  {
   "cell_type": "code",
   "execution_count": 1,
   "metadata": {},
   "outputs": [],
   "source": [
    "import scipy.integrate as sci\n",
    "sci?"
   ]
  },
  {
   "cell_type": "markdown",
   "metadata": {},
   "source": [
    "The second line will list how the contents and summary of the functions within the module *scipy.integrate*. Also note that I have included my own integration algorithms (**user beware**) in myint.py on the *github* repository *CompProbSol*"
   ]
  },
  {
   "cell_type": "markdown",
   "metadata": {},
   "source": [
    "The next thing to do is figure out how to use these functions. My functions all accept a *lambda* function, limits, and number of evaluation points. The built-in functions are also coded to take either arrays or *lambda* functions (depending on the function) and arrays of where the y values are evaluated or limits. Below are some examples using the trapezoid rule, Simpson's rule, and Romberg integration.\n",
    "\n",
    "Below, I use as an example of a hard integral (that actually shows up in statistical mechanics sometimes) $$\\int \\frac{x^3}{e^x-1} dx$$"
   ]
  },
  {
   "cell_type": "code",
   "execution_count": 2,
   "metadata": {},
   "outputs": [
    {
     "name": "stdout",
     "output_type": "stream",
     "text": [
      "6.014437717366874\n",
      "6.014429982985964\n"
     ]
    }
   ],
   "source": [
    "import myint\n",
    "import numpy as np\n",
    "x = np.linspace(1,8,100)\n",
    "ftrap = lambda x: x**3/(np.exp(x)-1)\n",
    "farray = ftrap(x)\n",
    "t =myint.trapezoidrule(ftrap,1,8,100)\n",
    "p = sci.trapz(farray,x)\n",
    "print(t)\n",
    "print(p)"
   ]
  },
  {
   "cell_type": "code",
   "execution_count": 3,
   "metadata": {},
   "outputs": [
    {
     "name": "stdout",
     "output_type": "stream",
     "text": [
      "6.014818606881074\n",
      "6.014818468760254\n"
     ]
    }
   ],
   "source": [
    "t=myint.simpsonrule(ftrap,1,8,1000)\n",
    "p = sci.simps(farray,x)\n",
    "print(t)\n",
    "print(p)"
   ]
  },
  {
   "cell_type": "code",
   "execution_count": 4,
   "metadata": {},
   "outputs": [
    {
     "name": "stdout",
     "output_type": "stream",
     "text": [
      "6.014816863438262\n",
      "6.01481860686697\n"
     ]
    }
   ],
   "source": [
    "t=myint.rombergrule(ftrap,1,8)\n",
    "p = sci.romberg(ftrap,1,8)\n",
    "print(t)\n",
    "print(p)"
   ]
  },
  {
   "cell_type": "markdown",
   "metadata": {},
   "source": [
    "Python also has builtin functions to deal with double and triple integrals. Below are examples of double and triple integrals using *dblquad* and *tplquad*"
   ]
  },
  {
   "cell_type": "markdown",
   "metadata": {},
   "source": [
    "Many times in electrostatics and magnetostatics, we need to integrate using non constant limits of integration; use lambda functions to accomplish this in Python\n",
    "`f2` is the result from the integral: $$\\int_{0}^{3}\\int_{0}^{1-2x} x^2 y$$ **Note that the limits are inputted in the reverse order of what you may think.**"
   ]
  },
  {
   "cell_type": "code",
   "execution_count": 6,
   "metadata": {},
   "outputs": [
    {
     "data": {
      "text/plain": [
       "(-39.5, 6.247250486690459e-13)"
      ]
     },
     "execution_count": 6,
     "metadata": {},
     "output_type": "execute_result"
    }
   ],
   "source": [
    "f2 = lambda x, y: x**2+y\n",
    "sci.dblquad(f2,0,3, lambda x: 0, lambda x: 1-2*x)"
   ]
  },
  {
   "cell_type": "markdown",
   "metadata": {},
   "source": [
    "The triple integral below is $$\\int_{0}^{2}\\int_{0}^{3-x}\\int_{1}^{4-x-y}x^2y+3z$$"
   ]
  },
  {
   "cell_type": "code",
   "execution_count": 5,
   "metadata": {},
   "outputs": [
    {
     "data": {
      "text/plain": [
       "(18.38888888888889, 2.0415767841718157e-13)"
      ]
     },
     "execution_count": 5,
     "metadata": {},
     "output_type": "execute_result"
    }
   ],
   "source": [
    "f3 = lambda x,y,z: x**2*y+3*z\n",
    "sci.tplquad(f3,0,2,lambda x: 0, lambda x: 3-x, lambda x,y:1,lambda x,y: 4-x-y)"
   ]
  }
 ],
 "metadata": {
  "kernelspec": {
   "display_name": "Python 3",
   "language": "python",
   "name": "python3"
  },
  "language_info": {
   "codemirror_mode": {
    "name": "ipython",
    "version": 3
   },
   "file_extension": ".py",
   "mimetype": "text/x-python",
   "name": "python",
   "nbconvert_exporter": "python",
   "pygments_lexer": "ipython3",
   "version": "3.7.4"
  }
 },
 "nbformat": 4,
 "nbformat_minor": 2
}
