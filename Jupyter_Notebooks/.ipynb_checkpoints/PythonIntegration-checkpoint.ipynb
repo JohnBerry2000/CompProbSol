{
 "cells": [
  {
   "cell_type": "markdown",
   "metadata": {},
   "source": [
    "# Integration in Python\n",
    "Python has a entire library devoted to algorthims implementing the integration techniques that we talked about today. You just need to import *scipy.integrate*"
   ]
  },
  {
   "cell_type": "code",
   "execution_count": 8,
   "metadata": {},
   "outputs": [],
   "source": [
    "import scipy.integrate as sci\n",
    "sci?"
   ]
  },
  {
   "cell_type": "markdown",
   "metadata": {},
   "source": [
    "The second line will list how the contents and summary of the functions within the module *scipy.integrate*. Also note that I have included my own integration algorithms (**user beware**) in myint.py on the *github* repository *CompProbSol*"
   ]
  },
  {
   "cell_type": "markdown",
   "metadata": {},
   "source": [
    "The next thing to do is figure out how to use these functions. My functions all accept a *lambda* function, limits, and number of evaluation points. The built-in functions are also coded to take either arrays or *lambda* functions (depending on the function) and arrays of where the y values are evaluated or limits. Below are some examples using the trapezoid rule, Simpson's rule, and Romberg integration."
   ]
  },
  {
   "cell_type": "code",
   "execution_count": 2,
   "metadata": {},
   "outputs": [
    {
     "name": "stdout",
     "output_type": "stream",
     "text": [
      "6.014437717366874\n",
      "6.014429982985964\n"
     ]
    }
   ],
   "source": [
    "import myint\n",
    "import numpy as np\n",
    "x = np.linspace(1,8,100)\n",
    "ftrap = lambda x: x**3/(np.exp(x)-1)\n",
    "farray = ftrap(x)\n",
    "t =myint.trapezoidrule(ftrap,1,8,100)\n",
    "p = sci.trapz(farray,x)\n",
    "print(t)\n",
    "print(p)"
   ]
  },
  {
   "cell_type": "code",
   "execution_count": 11,
   "metadata": {},
   "outputs": [
    {
     "name": "stdout",
     "output_type": "stream",
     "text": [
      "6.014818606881074\n",
      "6.014818468760254\n"
     ]
    }
   ],
   "source": [
    "t=myint.simpsonrule(ftrap,1,8,1000)\n",
    "p = sci.simps(farray,x)\n",
    "print(t)\n",
    "print(p)"
   ]
  },
  {
   "cell_type": "code",
   "execution_count": 12,
   "metadata": {},
   "outputs": [
    {
     "name": "stdout",
     "output_type": "stream",
     "text": [
      "6.014816863438262\n",
      "6.01481860686697\n"
     ]
    }
   ],
   "source": [
    "t=myint.rombergrule(ftrap,1,8)\n",
    "p = sci.romberg(ftrap,1,8)\n",
    "print(t)\n",
    "print(p)"
   ]
  },
  {
   "cell_type": "markdown",
   "metadata": {},
   "source": [
    "Python also has builtin functions to deal with double and triple integrals. Below are examples of double and triple integrals using *dblquad* and *tplquad*"
   ]
  },
  {
   "cell_type": "markdown",
   "metadata": {},
   "source": [
    "Many times in electrostatics and magnetostatics, we need to integrate using non constant limits of integration; use lambda functions to accomplish this in Python\n",
    "`f2` is the result from the integral: $$\\int_{0}^{3}\\int_{0}^{1-2x} x^2 y$$ Note that the limits are inputted in the reverse order of what you may think."
   ]
  },
  {
   "cell_type": "code",
   "execution_count": 36,
   "metadata": {},
   "outputs": [
    {
     "data": {
      "text/plain": [
       "(-39.5, 6.247250486690459e-13)"
      ]
     },
     "execution_count": 36,
     "metadata": {},
     "output_type": "execute_result"
    }
   ],
   "source": [
    "f2 = lambda x, y: x**2+y\n",
    "sci.dblquad(f2,0,3, lambda x: 0, lambda x: 1-2*x)"
   ]
  },
  {
   "cell_type": "markdown",
   "metadata": {},
   "source": [
    "The triple integral below is $$\\int_{0}^{2}\\int_{0}^{3-x}\\int_{1}^{4-x-y}x^2y+3z$$"
   ]
  },
  {
   "cell_type": "code",
   "execution_count": 7,
   "metadata": {},
   "outputs": [
    {
     "data": {
      "text/plain": [
       "(18.38888888888889, 2.0415767841718157e-13)"
      ]
     },
     "execution_count": 7,
     "metadata": {},
     "output_type": "execute_result"
    }
   ],
   "source": [
    "f3 = lambda x,y,z: x**2*y+3*z\n",
    "sci.tplquad(f3,0,2,lambda x: 0, lambda x: 3-x, lambda x,y:1,lambda x,y: 4-x-y)"
   ]
  },
  {
   "cell_type": "markdown",
   "metadata": {},
   "source": [
    "## Problem 8 (From *Computational Physics* Newman)\n",
    "The simple harmonic oscillator crops up in many places. Its behaviors can be studied readily using analytic methods and it has the important property that its period of oscillation is constant, independent of its amplitude, making it useful, for instance, for keeping time in watches and clocks. \n",
    "Frequently in physics, however, we also come across anharmonic oscillators, whose period varies with amplitude and whose behavior cannot usually be calculated analytically. A general classical oscillator can be thought of as a particle in a concave potential well. When disturbed, the particle will rock back and forth in the well. The harmonic oscillator corresponds to a quadratic potential $V(x)\\alpha x^2$. Any other form gives an anharmonic oscillator.\n",
    "One way to calculate the motion of an oscillator is to write down the equation for the conservation of enregy in the system. If the particle has a mass *m* and position *x*, then the total energy is equal to the sum of the kinetic and potential energies thus: $$E = \\frac{1}{2}m\\left(\\frac{dx}{dt}\\right)^2 + V(x).$$ Since the energy must be constant over time, this equation is effectively a differential equation linking *x* and *t*. \n",
    "Let us assume that the potential $V(x)$ is symmetric about $x=0$ and let us set our anharmonic oscillator going with amplitude *a* and it swings back towards the origin. Then at $t=0$ we have $dx/dt=0$.\n",
    "\n",
    "(a) Convince yourself that the period of this oscillator is $$T = \\int_{0}^{a} \\frac{dx}{\\sqrt{V(a)-V(x)}}$$.\n",
    "\n",
    "(b) Write a program in Python and MATLAB that takes the amplitude *a* as an argument and calculates the period of an anharmonic ocsillator with a mass $m=1$ and potential $V(x)=x^4$. Experiment with different integral functions.\n",
    "\n",
    "(c) Use your function to make a graph of the period for amplitudes ranging from $a=0$ to $a=4$. Do the results match your physical intuition?"
   ]
  },
  {
   "cell_type": "code",
   "execution_count": null,
   "metadata": {},
   "outputs": [],
   "source": []
  }
 ],
 "metadata": {
  "kernelspec": {
   "display_name": "Python 3",
   "language": "python",
   "name": "python3"
  },
  "language_info": {
   "codemirror_mode": {
    "name": "ipython",
    "version": 3
   },
   "file_extension": ".py",
   "mimetype": "text/x-python",
   "name": "python",
   "nbconvert_exporter": "python",
   "pygments_lexer": "ipython3",
   "version": "3.7.4"
  }
 },
 "nbformat": 4,
 "nbformat_minor": 2
}
